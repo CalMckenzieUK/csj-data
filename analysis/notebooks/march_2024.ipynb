{
 "cells": [
  {
   "cell_type": "code",
   "execution_count": null,
   "metadata": {},
   "outputs": [],
   "source": [
    "import os\n",
    "import MySQLdb\n",
    "from dotenv import load_dotenv\n",
    "import pandas as pd\n",
    "load_dotenv()\n",
    "\n",
    "def database_query(sql_query):\n",
    "    try:\n",
    "        connection = MySQLdb.connect(\n",
    "        host=os.getenv(\"DATABASE_HOST\"),\n",
    "        user=os.getenv(\"DATABASE_USERNAME\"),\n",
    "        passwd=os.getenv(\"DATABASE_PASSWORD\"),\n",
    "        db=os.getenv(\"DATABASE\"),\n",
    "        autocommit=True,\n",
    "        # ssl_mode=\"VERIFY_iDENTITY\",\n",
    "        ssl={\"ca\": \"/etc/ssl/certs/ca-certificates.crt\"})\n",
    "    except:\n",
    "        connection = MySQLdb.connect(\n",
    "        host=os.environ[\"DATABASE_HOST\"],\n",
    "        user=os.environ[\"DATABASE_USERNAME\"],\n",
    "        passwd=os.environ[\"DATABASE_PASSWORD\"],\n",
    "        db=os.environ[\"DATABASE\"],\n",
    "        autocommit=True,\n",
    "        # ssl_mode=\"VERIFY_iDENTITY\",\n",
    "        ssl={\"ca\": \"/etc/ssl/certs/ca-certificates.crt\"})\n",
    "    try:\n",
    "        c = connection.cursor()\n",
    "        c.execute(sql_query)\n",
    "        results = c.fetchall()\n",
    "        return results\n",
    "    except MySQLdb.Error as e:\n",
    "        print(\"MySQL Error:\", e)\n",
    "    finally:\n",
    "        c.close()\n",
    "        connection.close()\n",
    "\n",
    "\n",
    "sql_query = '''\n",
    "\n",
    "select\n",
    "    title\n",
    "    ,department\n",
    "    ,location\n",
    "    ,salary\n",
    "    ,closing_date\n",
    "    ,uid\n",
    "    ,scraped_date\n",
    "from \n",
    "    all_time_listings\n",
    "\n",
    "'''\n",
    "\n",
    "df = pd.DataFrame(database_query(sql_query))\n",
    "df.columns = ['title', 'department', 'location', 'salary', 'closing_date', 'uid', 'scraped_date']\n",
    "df.head()"
   ]
  },
  {
   "cell_type": "code",
   "execution_count": null,
   "metadata": {},
   "outputs": [],
   "source": [
    "from plotnine import ggplot, scale_fill_gradient, scale_color_continuous, scale_color_gradient, aes, geom_point, geom_col, geom_line, geom_histogram, geom_boxplot, facet_wrap, theme, element_text, element_blank, element_rect, element_line, labs, scale_x_continuous, scale_y_continuous, scale_fill_manual, scale_color_manual, scale_linetype_manual, scale_shape_manual, scale_size_manual, scale_alpha_manual, coord_flip, coord_cartesian, coord_fixed"
   ]
  },
  {
   "cell_type": "markdown",
   "metadata": {},
   "source": [
    "Plot showing median salaries by department"
   ]
  },
  {
   "cell_type": "code",
   "execution_count": null,
   "metadata": {},
   "outputs": [],
   "source": [
    "df['salary_int'] = df['salary'].str.replace(',','')\n",
    "df['salary_int'] = df['salary_int'].astype(float)\n",
    "df['scraped_date_date'] = pd.to_datetime(df['scraped_date'])\n",
    "df['week_commencing'] = df['scraped_date_date'].dt.to_period('W').dt.start_time\n",
    "df['salary_int'].describe()\n",
    "daily_salary = df[['week_commencing','salary_int','department','location']].groupby(['week_commencing','salary_int','department','location']).mean().reset_index()\n",
    "department_salary = df.groupby('department').agg({'salary_int':'median','uid':'count'}).reset_index().sort_values('salary_int', ascending=False)\n",
    "department_salary.columns = ['department','salary_int','Number of Postings']\n",
    "\n",
    "# department_salary = pd.concat([department_salary.nlargest(5, 'salary_int').reset_index(),department_salary.nsmallest(5, 'salary_int').reset_index()], axis=0, ignore_index=True).sort_values('salary_int', ascending=False)\n",
    "\n",
    "plot = (\n",
    "    ggplot(department_salary, aes(x=\"reorder(department, salary_int, ascending=False)\", y='salary_int'\n",
    "                                    ,color='Number of Postings', fill='Number of Postings'\n",
    "                                   ))\n",
    "\n",
    "    + geom_col()\n",
    "    # + theme(legend_position='none')\n",
    "    + scale_color_gradient(limits=[10, 100], labels=['<10', '>100'], breaks=[10, 100])\n",
    "    + scale_fill_gradient(limits=[10, 100], labels=['<10', '>100'], breaks=[10, 100])\n",
    "    + labs(title=f\"Civil Service Departments Median Salary Comparison: {df['scraped_date_date'].dt.date.min()} to {df['scraped_date_date'].dt.date.max()}\"\n",
    "           , x='Department'\n",
    "           , y='Median Salary (£)'\n",
    "           , caption='Source: Civil Service Jobs (https://www.civilservicejobs.service.gov.uk/)')\n",
    "    + theme(axis_text_x=element_text(angle=90, face='bold'))\n",
    "    + theme(axis_text_x=element_text(size=6))\n",
    "    + theme(axis_text_y=element_text(size=6))\n",
    "    + theme(plot_caption=element_text(size=6, face='italic'))\n",
    "    + theme(plot_title=element_text(size=20, face='bold'))\n",
    ")\n",
    "\n",
    "plot.save(\"department_salary.png\", width=20, height=10, units='in', dpi=300)\n"
   ]
  },
  {
   "cell_type": "code",
   "execution_count": null,
   "metadata": {},
   "outputs": [],
   "source": [
    "##department median salary QA\n",
    "\n",
    "pass_qa = True\n",
    "number_of_departments = 0\n",
    "def qa_check(df, department):\n",
    "    global pass_qa\n",
    "    global number_of_departments\n",
    "    department_median = df[df['department']==department]['salary_int'].values[0]\n",
    "    df_department = df[df['department']==department]\n",
    "    difference = department_median - df_department['salary_int'].describe().values[5]\n",
    "    if difference > 0:\n",
    "        print(f\"Variation in QA check for {department}\")\n",
    "        pass_qa = False\n",
    "    else:\n",
    "        number_of_departments += 1\n",
    "\n",
    "\n",
    "for i in df['department'].unique():\n",
    "    qa_check(department_salary, i)\n",
    "if pass_qa:\n",
    "    print(\"QA checks passed. Number of departments checked: \", number_of_departments)\n",
    "else:\n",
    "    print(\"QA checks failed\")"
   ]
  },
  {
   "cell_type": "markdown",
   "metadata": {},
   "source": [
    "See if we can pull number of posts out of the data as well to improve salary averages?\n",
    "Compare highest salaries with behvaiours to establish highest-value behaviours"
   ]
  },
  {
   "cell_type": "code",
   "execution_count": null,
   "metadata": {},
   "outputs": [],
   "source": [
    "application_df = pd.DataFrame(database_query('select * from all_time_ad_qualities'))"
   ]
  },
  {
   "cell_type": "code",
   "execution_count": null,
   "metadata": {},
   "outputs": [],
   "source": [
    "application_df.columns = [\n",
    "        'uid', \n",
    "        'developing_self_and_others', \n",
    "        'leadership',\n",
    "        'making_effective_decisions',\n",
    "        'seeing_the_big_picture',\n",
    "        'managing_a_quality_service',\n",
    "        'working_together',\n",
    "        'communicating_and_influencing',\n",
    "        'changing_and_improving',\n",
    "        'delivering_at_pace',\n",
    "        'apply_at_advertisers_site',\n",
    "        'cv',\n",
    "        'personal_statement',\n",
    "        'reference_request',\n",
    "        'application_form',\n",
    "        'cover_letter',\n",
    "        'presentation',\n",
    "        'interview',\n",
    "        'portfolio',\n",
    "        'test']"
   ]
  },
  {
   "cell_type": "code",
   "execution_count": null,
   "metadata": {},
   "outputs": [],
   "source": [
    "df['uid'] = df['uid'].astype(int)\n",
    "application_df['uid'] = application_df['uid'].astype(int)\n",
    "combined_df = pd.merge(df, application_df, on='uid', how='inner')\n",
    "combined_df.head()"
   ]
  }
 ],
 "metadata": {
  "kernelspec": {
   "display_name": "Python 3",
   "language": "python",
   "name": "python3"
  },
  "language_info": {
   "codemirror_mode": {
    "name": "ipython",
    "version": 3
   },
   "file_extension": ".py",
   "mimetype": "text/x-python",
   "name": "python",
   "nbconvert_exporter": "python",
   "pygments_lexer": "ipython3",
   "version": "3.10.13"
  }
 },
 "nbformat": 4,
 "nbformat_minor": 2
}
